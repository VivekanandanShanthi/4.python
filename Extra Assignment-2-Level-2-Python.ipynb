{
 "cells": [
  {
   "cell_type": "code",
   "execution_count": 1,
   "id": "947af721-0189-4d3f-b62b-20e9b0be73dd",
   "metadata": {},
   "outputs": [
    {
     "name": "stdout",
     "output_type": "stream",
     "text": [
      "0\n",
      "1\n",
      "2\n",
      "3\n",
      "4\n",
      "5\n",
      "6\n",
      "7\n",
      "8\n",
      "9\n",
      "10\n",
      "11\n",
      "12\n",
      "13\n",
      "14\n",
      "15\n",
      "16\n",
      "17\n",
      "18\n",
      "19\n"
     ]
    }
   ],
   "source": [
    "for num in range(0,20):\n",
    "    print(num)"
   ]
  },
  {
   "cell_type": "code",
   "execution_count": 18,
   "id": "cf7e641a-1fe8-496a-a197-76823567d21d",
   "metadata": {},
   "outputs": [
    {
     "name": "stdout",
     "output_type": "stream",
     "text": [
      "10 11 12 13 14 15 16 17 18 19 "
     ]
    }
   ],
   "source": [
    "for num in range(10,20):\n",
    "    print(num,end=' ')"
   ]
  },
  {
   "cell_type": "code",
   "execution_count": 30,
   "id": "ba8227ce-0fed-4510-b5ad-a4c02f56b5c7",
   "metadata": {},
   "outputs": [
    {
     "name": "stdout",
     "output_type": "stream",
     "text": [
      "Number of items in the list2: 7\n"
     ]
    }
   ],
   "source": [
    "my_list = [10, 20, 14, 55, 43, 87, 76]\n",
    "print(\"Number of items in the list2:\", len(my_list))"
   ]
  },
  {
   "cell_type": "code",
   "execution_count": 31,
   "id": "303f3ad2-8a7e-41a9-93f1-f6a8c0314d5c",
   "metadata": {},
   "outputs": [
    {
     "name": "stdout",
     "output_type": "stream",
     "text": [
      "A\n",
      "r\n",
      "t\n",
      "i\n",
      "f\n",
      "i\n",
      "c\n",
      "a\n",
      "l\n",
      " \n",
      "I\n",
      "n\n",
      "t\n",
      "e\n",
      "l\n",
      "l\n",
      "i\n",
      "g\n",
      "e\n",
      "n\n",
      "c\n",
      "e\n"
     ]
    }
   ],
   "source": [
    "lists=\"Artifical Intelligence\"\n",
    "for name in lists:\n",
    "    print(name)"
   ]
  },
  {
   "cell_type": "code",
   "execution_count": 36,
   "id": "72973920-7bcb-4941-a4f3-c6287c0741a0",
   "metadata": {},
   "outputs": [
    {
     "name": "stdout",
     "output_type": "stream",
     "text": [
      "-Your name-\n",
      "-Your age-\n",
      "-Your Profession-\n"
     ]
    }
   ],
   "source": [
    "lists=[\"-Your name-\", \"-Your age-\", \"-Your Profession-\"]\n",
    "for name in lists:\n",
    "    print(name)"
   ]
  },
  {
   "cell_type": "code",
   "execution_count": 38,
   "id": "46e1d236-6694-49a3-8de2-78a2912a2124",
   "metadata": {},
   "outputs": [
    {
     "name": "stdout",
     "output_type": "stream",
     "text": [
      "1, 'Welcome', 2, 'Hope'\n"
     ]
    }
   ],
   "source": [
    "lists=[\"1, 'Welcome', 2, 'Hope'\"]\n",
    "for name in lists:\n",
    "    print(name)"
   ]
  },
  {
   "cell_type": "code",
   "execution_count": 40,
   "id": "254c579b-994e-4b21-a163-1c03aeb28b47",
   "metadata": {},
   "outputs": [
    {
     "name": "stdout",
     "output_type": "stream",
     "text": [
      "((0,1,2,3), ('python', 'HOPE'))\n"
     ]
    }
   ],
   "source": [
    "lists=[\"((0,1,2,3), ('python', 'HOPE'))\"]\n",
    "for name in lists:\n",
    "    print(name)"
   ]
  },
  {
   "cell_type": "code",
   "execution_count": 57,
   "id": "4e7811ef-7387-4ccc-8f2c-818bdfbce7be",
   "metadata": {},
   "outputs": [
    {
     "name": "stdout",
     "output_type": "stream",
     "text": [
      "19 is odd\n",
      "25 is odd\n",
      "1 is odd\n"
     ]
    }
   ],
   "source": [
    "lists = [20, 10, 16, 19, 25, 1, 276, 188]\n",
    "\n",
    "for num in lists:\n",
    "    if num % 2 == 1:\n",
    "        print(num, \"is odd\")"
   ]
  },
  {
   "cell_type": "code",
   "execution_count": 60,
   "id": "b16385cf-fcf3-4be3-854c-77fe060ebb7f",
   "metadata": {},
   "outputs": [
    {
     "name": "stdout",
     "output_type": "stream",
     "text": [
      "20 is even\n",
      "10 is even\n",
      "16 is even\n",
      "276 is even\n",
      "188 is even\n"
     ]
    }
   ],
   "source": [
    "lists = [20, 10, 16, 19, 25, 1, 276, 188]\n",
    "\n",
    "for num in lists:\n",
    "    if num % 2 == 0:\n",
    "        print(num, \"is even\")"
   ]
  },
  {
   "cell_type": "code",
   "execution_count": null,
   "id": "d14aaf5b-beb4-46d6-908f-12e1bd078f51",
   "metadata": {},
   "outputs": [],
   "source": []
  }
 ],
 "metadata": {
  "kernelspec": {
   "display_name": "Python 3 (ipykernel)",
   "language": "python",
   "name": "python3"
  },
  "language_info": {
   "codemirror_mode": {
    "name": "ipython",
    "version": 3
   },
   "file_extension": ".py",
   "mimetype": "text/x-python",
   "name": "python",
   "nbconvert_exporter": "python",
   "pygments_lexer": "ipython3",
   "version": "3.11.7"
  }
 },
 "nbformat": 4,
 "nbformat_minor": 5
}
